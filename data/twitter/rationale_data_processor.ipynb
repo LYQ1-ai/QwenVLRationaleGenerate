{
 "cells": [
  {
   "metadata": {
    "ExecuteTime": {
     "end_time": "2025-01-15T13:21:46.058445Z",
     "start_time": "2025-01-15T13:21:44.589613Z"
    }
   },
   "cell_type": "code",
   "source": [
    "import os\n",
    "\n",
    "import numpy as np\n",
    "import pandas as pd\n",
    "\n",
    "from data_loader import label_str2int_dict\n",
    "\n",
    "rationale_names = {'td','cs'}\n",
    "current_path = os.getcwd()\n",
    "print(current_path)\n",
    "os.chdir('C:\\\\Users\\\\lyq\\\\DataSet\\\\FakeNews\\\\twitter')\n",
    "print(os.getcwd())\n",
    "\n"
   ],
   "id": "dc0f623ad29429b3",
   "outputs": [
    {
     "name": "stdout",
     "output_type": "stream",
     "text": [
      "C:\\Users\\lyq\\DataSet\n",
      "C:\\Users\\lyq\\DataSet\\FakeNews\\twitter\n"
     ]
    }
   ],
   "execution_count": 1
  },
  {
   "metadata": {
    "ExecuteTime": {
     "end_time": "2025-01-15T13:21:47.268890Z",
     "start_time": "2025-01-15T13:21:47.232891Z"
    }
   },
   "cell_type": "code",
   "source": [
    "df = pd.read_csv('twitter.csv',encoding='utf-8')\n",
    "df.rename(columns={'post_id':'source_id','post_text':'content'},inplace=True)\n",
    "# content,label,image_id,source_id,split,td_rationale,td_pred,td_acc,cs_rationale,cs_pred,cs_acc\n",
    "df['label'] = df['label'].apply(lambda x: label_str2int_dict[x])\n",
    "df['split'] = np.nan\n",
    "df = df[['source_id','content','label','split','image_id']]\n",
    "df.columns"
   ],
   "id": "b940c65f2a60d687",
   "outputs": [
    {
     "data": {
      "text/plain": [
       "Index(['source_id', 'content', 'label', 'split', 'image_id'], dtype='object')"
      ]
     },
     "execution_count": 2,
     "metadata": {},
     "output_type": "execute_result"
    }
   ],
   "execution_count": 2
  },
  {
   "metadata": {
    "ExecuteTime": {
     "end_time": "2025-01-15T13:21:49.053696Z",
     "start_time": "2025-01-15T13:21:48.768198Z"
    }
   },
   "cell_type": "code",
   "source": [
    "for rationale_name in rationale_names:\n",
    "    rationale_df = pd.read_csv(f'{rationale_name}.csv')\n",
    "    rationale_df = rationale_df.dropna(subset=['authenticity','reason'])\n",
    "    if rationale_df.shape[0] != df.shape[0]:\n",
    "        raise Exception(f'{rationale_name} len : {rationale_df.shape[0]} != {df.shape[0]}')\n",
    "    df = df.merge(rationale_df,on='source_id',how='left')\n",
    "    df = df.rename(columns={\n",
    "        'authenticity':f'{rationale_name}_pred',\n",
    "        'reason': f'{rationale_name}_rationale',\n",
    "    })\n",
    "    df[f'{rationale_name}_pred'] = df[f'{rationale_name}_pred'].apply(lambda x: label_str2int_dict[x])\n",
    "    df[f'{rationale_name}_acc'] = df.apply(lambda x : int(x[f'{rationale_name}_pred']==x['label']) ,axis=1)\n",
    "    print(df.columns)\n",
    "    \n",
    "df\n",
    "    "
   ],
   "id": "fac5c8ce774b8be",
   "outputs": [
    {
     "name": "stdout",
     "output_type": "stream",
     "text": [
      "Index(['source_id', 'content', 'label', 'split', 'image_id', 'cs_pred',\n",
      "       'cs_rationale', 'cs_acc'],\n",
      "      dtype='object')\n",
      "Index(['source_id', 'content', 'label', 'split', 'image_id', 'cs_pred',\n",
      "       'cs_rationale', 'cs_acc', 'td_pred', 'td_rationale', 'td_acc'],\n",
      "      dtype='object')\n"
     ]
    },
    {
     "data": {
      "text/plain": [
       "                source_id                                            content  \\\n",
       "0      325145334739267584  PIC: Comparison of #Boston suspect Sunil Tripa...   \n",
       "1      325152091423248385  I'm not completely convinced that it's this Su...   \n",
       "2      324315545572896768  4chan and the bombing. just throwing it out th...   \n",
       "3      324581777614180352  4chan thinks they found pictures of the bomber...   \n",
       "4      324665423956176896  Ola ke ase, investigando las bombas de Boston ...   \n",
       "...                   ...                                                ...   \n",
       "14190  700662094107119616  14 children! 14 different fathers! All of them...   \n",
       "14191  700638809155710977  Meet The Woman Who Has Given Birth To 14 Child...   \n",
       "14192  700618091886047232  RT @Viasat1Ghana: Woman, 36, gives birth to 14...   \n",
       "14193  700569502874992640  Woman Breaks World Record With 14 Children fro...   \n",
       "14194  700569797545881600  RT @Abiola_j360ent: Woman Breaks World Record ...   \n",
       "\n",
       "       label  split             image_id  cs_pred  \\\n",
       "0          1    NaN       boston_fake_23        1   \n",
       "1          1    NaN       boston_fake_34        1   \n",
       "2          1    NaN       boston_fake_15        1   \n",
       "3          1    NaN       boston_fake_08        1   \n",
       "4          1    NaN       boston_fake_35        1   \n",
       "...      ...    ...                  ...      ...   \n",
       "14190      1    NaN  woman_14_children_1        1   \n",
       "14191      1    NaN  woman_14_children_1        1   \n",
       "14192      1    NaN  woman_14_children_1        1   \n",
       "14193      1    NaN  woman_14_children_2        1   \n",
       "14194      1    NaN  woman_14_children_2        1   \n",
       "\n",
       "                                            cs_rationale  cs_acc  td_pred  \\\n",
       "0       Plausibility: The message suggests a comparis...       1        1   \n",
       "1       Plausibility: The message suggests doubt abou...       1        1   \n",
       "2       Plausibility: The message is vague and lacks ...       1        1   \n",
       "3       Plausibility: Claims from anonymous sources l...       1        1   \n",
       "4       Plausibility: The message is written in a mix...       1        1   \n",
       "...                                                  ...     ...      ...   \n",
       "14190   Plausibility: The claim that a woman has 14 c...       1        1   \n",
       "14191   Plausibility: While it is possible for a woma...       1        1   \n",
       "14192   Plausibility: While it is possible for a woma...       1        1   \n",
       "14193   Plausibility: While it is biologically possib...       1        1   \n",
       "14194   Plausibility: While it is theoretically possi...       1        1   \n",
       "\n",
       "                                            td_rationale  td_acc  \n",
       "0       1. The message suggests a comparison between ...       1  \n",
       "1       1. The message is a tweet expressing doubt ab...       1  \n",
       "2       1. The message is extremely brief and lacks c...       1  \n",
       "3       1. Source: The source of the message is 4chan...       1  \n",
       "4       1. Language: The message is written in a mix ...       1  \n",
       "...                                                  ...     ...  \n",
       "14190   1. The claim that a woman has 14 children wit...       1  \n",
       "14191   1. Sensationalism: The headline is highly sen...       1  \n",
       "14192   1. **Source**: The source of the tweet is Via...       1  \n",
       "14193   1. **Source**: The source of the message is n...       1  \n",
       "14194   1. **Source**: The tweet is retweeted from an...       1  \n",
       "\n",
       "[14195 rows x 11 columns]"
      ],
      "text/html": [
       "<div>\n",
       "<style scoped>\n",
       "    .dataframe tbody tr th:only-of-type {\n",
       "        vertical-align: middle;\n",
       "    }\n",
       "\n",
       "    .dataframe tbody tr th {\n",
       "        vertical-align: top;\n",
       "    }\n",
       "\n",
       "    .dataframe thead th {\n",
       "        text-align: right;\n",
       "    }\n",
       "</style>\n",
       "<table border=\"1\" class=\"dataframe\">\n",
       "  <thead>\n",
       "    <tr style=\"text-align: right;\">\n",
       "      <th></th>\n",
       "      <th>source_id</th>\n",
       "      <th>content</th>\n",
       "      <th>label</th>\n",
       "      <th>split</th>\n",
       "      <th>image_id</th>\n",
       "      <th>cs_pred</th>\n",
       "      <th>cs_rationale</th>\n",
       "      <th>cs_acc</th>\n",
       "      <th>td_pred</th>\n",
       "      <th>td_rationale</th>\n",
       "      <th>td_acc</th>\n",
       "    </tr>\n",
       "  </thead>\n",
       "  <tbody>\n",
       "    <tr>\n",
       "      <th>0</th>\n",
       "      <td>325145334739267584</td>\n",
       "      <td>PIC: Comparison of #Boston suspect Sunil Tripa...</td>\n",
       "      <td>1</td>\n",
       "      <td>NaN</td>\n",
       "      <td>boston_fake_23</td>\n",
       "      <td>1</td>\n",
       "      <td>Plausibility: The message suggests a comparis...</td>\n",
       "      <td>1</td>\n",
       "      <td>1</td>\n",
       "      <td>1. The message suggests a comparison between ...</td>\n",
       "      <td>1</td>\n",
       "    </tr>\n",
       "    <tr>\n",
       "      <th>1</th>\n",
       "      <td>325152091423248385</td>\n",
       "      <td>I'm not completely convinced that it's this Su...</td>\n",
       "      <td>1</td>\n",
       "      <td>NaN</td>\n",
       "      <td>boston_fake_34</td>\n",
       "      <td>1</td>\n",
       "      <td>Plausibility: The message suggests doubt abou...</td>\n",
       "      <td>1</td>\n",
       "      <td>1</td>\n",
       "      <td>1. The message is a tweet expressing doubt ab...</td>\n",
       "      <td>1</td>\n",
       "    </tr>\n",
       "    <tr>\n",
       "      <th>2</th>\n",
       "      <td>324315545572896768</td>\n",
       "      <td>4chan and the bombing. just throwing it out th...</td>\n",
       "      <td>1</td>\n",
       "      <td>NaN</td>\n",
       "      <td>boston_fake_15</td>\n",
       "      <td>1</td>\n",
       "      <td>Plausibility: The message is vague and lacks ...</td>\n",
       "      <td>1</td>\n",
       "      <td>1</td>\n",
       "      <td>1. The message is extremely brief and lacks c...</td>\n",
       "      <td>1</td>\n",
       "    </tr>\n",
       "    <tr>\n",
       "      <th>3</th>\n",
       "      <td>324581777614180352</td>\n",
       "      <td>4chan thinks they found pictures of the bomber...</td>\n",
       "      <td>1</td>\n",
       "      <td>NaN</td>\n",
       "      <td>boston_fake_08</td>\n",
       "      <td>1</td>\n",
       "      <td>Plausibility: Claims from anonymous sources l...</td>\n",
       "      <td>1</td>\n",
       "      <td>1</td>\n",
       "      <td>1. Source: The source of the message is 4chan...</td>\n",
       "      <td>1</td>\n",
       "    </tr>\n",
       "    <tr>\n",
       "      <th>4</th>\n",
       "      <td>324665423956176896</td>\n",
       "      <td>Ola ke ase, investigando las bombas de Boston ...</td>\n",
       "      <td>1</td>\n",
       "      <td>NaN</td>\n",
       "      <td>boston_fake_35</td>\n",
       "      <td>1</td>\n",
       "      <td>Plausibility: The message is written in a mix...</td>\n",
       "      <td>1</td>\n",
       "      <td>1</td>\n",
       "      <td>1. Language: The message is written in a mix ...</td>\n",
       "      <td>1</td>\n",
       "    </tr>\n",
       "    <tr>\n",
       "      <th>...</th>\n",
       "      <td>...</td>\n",
       "      <td>...</td>\n",
       "      <td>...</td>\n",
       "      <td>...</td>\n",
       "      <td>...</td>\n",
       "      <td>...</td>\n",
       "      <td>...</td>\n",
       "      <td>...</td>\n",
       "      <td>...</td>\n",
       "      <td>...</td>\n",
       "      <td>...</td>\n",
       "    </tr>\n",
       "    <tr>\n",
       "      <th>14190</th>\n",
       "      <td>700662094107119616</td>\n",
       "      <td>14 children! 14 different fathers! All of them...</td>\n",
       "      <td>1</td>\n",
       "      <td>NaN</td>\n",
       "      <td>woman_14_children_1</td>\n",
       "      <td>1</td>\n",
       "      <td>Plausibility: The claim that a woman has 14 c...</td>\n",
       "      <td>1</td>\n",
       "      <td>1</td>\n",
       "      <td>1. The claim that a woman has 14 children wit...</td>\n",
       "      <td>1</td>\n",
       "    </tr>\n",
       "    <tr>\n",
       "      <th>14191</th>\n",
       "      <td>700638809155710977</td>\n",
       "      <td>Meet The Woman Who Has Given Birth To 14 Child...</td>\n",
       "      <td>1</td>\n",
       "      <td>NaN</td>\n",
       "      <td>woman_14_children_1</td>\n",
       "      <td>1</td>\n",
       "      <td>Plausibility: While it is possible for a woma...</td>\n",
       "      <td>1</td>\n",
       "      <td>1</td>\n",
       "      <td>1. Sensationalism: The headline is highly sen...</td>\n",
       "      <td>1</td>\n",
       "    </tr>\n",
       "    <tr>\n",
       "      <th>14192</th>\n",
       "      <td>700618091886047232</td>\n",
       "      <td>RT @Viasat1Ghana: Woman, 36, gives birth to 14...</td>\n",
       "      <td>1</td>\n",
       "      <td>NaN</td>\n",
       "      <td>woman_14_children_1</td>\n",
       "      <td>1</td>\n",
       "      <td>Plausibility: While it is possible for a woma...</td>\n",
       "      <td>1</td>\n",
       "      <td>1</td>\n",
       "      <td>1. **Source**: The source of the tweet is Via...</td>\n",
       "      <td>1</td>\n",
       "    </tr>\n",
       "    <tr>\n",
       "      <th>14193</th>\n",
       "      <td>700569502874992640</td>\n",
       "      <td>Woman Breaks World Record With 14 Children fro...</td>\n",
       "      <td>1</td>\n",
       "      <td>NaN</td>\n",
       "      <td>woman_14_children_2</td>\n",
       "      <td>1</td>\n",
       "      <td>Plausibility: While it is biologically possib...</td>\n",
       "      <td>1</td>\n",
       "      <td>1</td>\n",
       "      <td>1. **Source**: The source of the message is n...</td>\n",
       "      <td>1</td>\n",
       "    </tr>\n",
       "    <tr>\n",
       "      <th>14194</th>\n",
       "      <td>700569797545881600</td>\n",
       "      <td>RT @Abiola_j360ent: Woman Breaks World Record ...</td>\n",
       "      <td>1</td>\n",
       "      <td>NaN</td>\n",
       "      <td>woman_14_children_2</td>\n",
       "      <td>1</td>\n",
       "      <td>Plausibility: While it is theoretically possi...</td>\n",
       "      <td>1</td>\n",
       "      <td>1</td>\n",
       "      <td>1. **Source**: The tweet is retweeted from an...</td>\n",
       "      <td>1</td>\n",
       "    </tr>\n",
       "  </tbody>\n",
       "</table>\n",
       "<p>14195 rows × 11 columns</p>\n",
       "</div>"
      ]
     },
     "execution_count": 3,
     "metadata": {},
     "output_type": "execute_result"
    }
   ],
   "execution_count": 3
  },
  {
   "metadata": {
    "collapsed": true,
    "ExecuteTime": {
     "end_time": "2025-01-15T13:22:30.212458Z",
     "start_time": "2025-01-15T13:22:30.022445Z"
    }
   },
   "cell_type": "code",
   "source": [
    "\n",
    "df.to_csv('twitter_llm_rationales.csv',index=False)"
   ],
   "id": "initial_id",
   "outputs": [],
   "execution_count": 4
  },
  {
   "metadata": {
    "ExecuteTime": {
     "end_time": "2025-01-15T13:24:00.838463Z",
     "start_time": "2025-01-15T13:24:00.834381Z"
    }
   },
   "cell_type": "code",
   "source": [
    "print(f\"sum: {df.shape[0]}\")\n",
    "value_count = df['label'].value_counts()\n",
    "print(f\"real data: {value_count.get(0,0)}\")\n",
    "print(f\"fake data: {value_count.get(1,0)}\")"
   ],
   "id": "5a03146a31de0d59",
   "outputs": [
    {
     "name": "stdout",
     "output_type": "stream",
     "text": [
      "sum: 14195\n",
      "real data: 6432\n",
      "fake data: 7763\n"
     ]
    }
   ],
   "execution_count": 6
  },
  {
   "metadata": {
    "ExecuteTime": {
     "end_time": "2025-01-15T13:24:07.775444Z",
     "start_time": "2025-01-15T13:24:07.765436Z"
    }
   },
   "cell_type": "code",
   "source": [
    "def filter_data(df):\n",
    "    for r_name in rationale_names:\n",
    "        df = df[ (df[f'{r_name}_pred'] != -1) & (df[f'{r_name}_rationale'] is not None) ]\n",
    "    return df\n",
    "        \n",
    "print(f\"before filtering : {df.shape[0]}  real data :{(df['label']==1).sum()} fake data: {(df['label']==0).sum()}\")\n",
    "df = filter_data(df)\n",
    "print(f\"after filtering : {df.shape[0]}  real data :{(df['label']==1).sum()} fake data: {(df['label']==0).sum()}\")\n"
   ],
   "id": "40431c75e8f3cd3b",
   "outputs": [
    {
     "name": "stdout",
     "output_type": "stream",
     "text": [
      "before filtering : 14195  real data :7763 fake data: 6432\n",
      "after filtering : 14195  real data :7763 fake data: 6432\n"
     ]
    }
   ],
   "execution_count": 7
  },
  {
   "metadata": {
    "ExecuteTime": {
     "end_time": "2025-01-15T13:24:39.307793Z",
     "start_time": "2025-01-15T13:24:38.332509Z"
    }
   },
   "cell_type": "code",
   "source": [
    "from Util import cal_rationale_metrics\n",
    "from sklearn.metrics import f1_score, precision_score, recall_score, confusion_matrix, accuracy_score\n",
    "\n",
    "for r_name in rationale_names:\n",
    "    pred = df[r_name+ \"_pred\"].tolist()\n",
    "    label = df['label'].tolist()\n",
    "    print(cal_rationale_metrics(pred,label))\n",
    "    "
   ],
   "id": "e0f743ffe5126a01",
   "outputs": [
    {
     "name": "stdout",
     "output_type": "stream",
     "text": [
      "{'acc': 0.6779852060584713, 'recall': np.float64(0.6724966301911799), 'recall_real': np.float64(0.6139614427860697), 'recall_fake': np.float64(0.7310318175962901), 'precision': np.float64(0.6748845163901629), 'precision_real': np.float64(0.6541328474407818), 'precision_fake': np.float64(0.695636185339544), 'f1_macro': np.float64(0.6731528887955175), 'f1_real': np.float64(0.6334108589301468), 'f1_fake': np.float64(0.7128949186608882)}\n",
      "{'acc': 0.6865797816132441, 'recall': np.float64(0.6794081128878344), 'recall_real': np.float64(0.6029228855721394), 'recall_fake': np.float64(0.7558933402035296), 'precision': np.float64(0.6842472037243117), 'precision_real': np.float64(0.671747791442924), 'precision_fake': np.float64(0.6967466160056993), 'f1_macro': np.float64(0.6802965557120234), 'f1_real': np.float64(0.6354772634166326), 'f1_fake': np.float64(0.7251158480074142)}\n"
     ]
    }
   ],
   "execution_count": 8
  },
  {
   "metadata": {
    "ExecuteTime": {
     "end_time": "2025-01-15T13:26:09.484759Z",
     "start_time": "2025-01-15T13:26:09.471600Z"
    }
   },
   "cell_type": "code",
   "source": [
    "def split_data0(df,train_ratio=0.8,valid_ratio=0.1):\n",
    "    train_nums = int(df.shape[0]*train_ratio)\n",
    "    valid_nums = int(df.shape[0]*valid_ratio)\n",
    "    return df.iloc[:train_nums],df.iloc[train_nums:train_nums+valid_nums],df.iloc[train_nums+valid_nums:]\n",
    "\n",
    "def split_data(df,train_ratio=0.8,valid_ratio=0.1):\n",
    "    real_data = df[df['label'] == 1]\n",
    "    fake_data = df[df['label'] == 0]\n",
    "    print(f\"real_data count : {real_data.shape[0]}\")\n",
    "    print(f\"fake_data count : {fake_data.shape[0]}\")\n",
    "    train_real,valid_real,test_real = split_data0(real_data,train_ratio,valid_ratio)\n",
    "    train_fake,valid_fake,test_fake = split_data0(fake_data,train_ratio,valid_ratio)\n",
    "    train_df,valid_df,test_df = pd.concat([train_real,train_fake]),pd.concat([valid_real,valid_fake]),pd.concat([test_real,test_fake])\n",
    "    train_df['split'] = 'train'\n",
    "    valid_df['split'] = 'valid'\n",
    "    test_df['split'] = 'test'\n",
    "    return train_df,valid_df,test_df\n",
    "\n",
    "\n",
    "train_df,valid_df,test_df = split_data(df,train_ratio=0.8,valid_ratio=0.1)\n",
    "\n",
    "\n",
    "train_df.shape[0],valid_df.shape[0],test_df.shape[0]"
   ],
   "id": "83ed77bcebc82db8",
   "outputs": [
    {
     "name": "stdout",
     "output_type": "stream",
     "text": [
      "real_data count : 7763\n",
      "fake_data count : 6432\n"
     ]
    },
    {
     "data": {
      "text/plain": [
       "(11355, 1419, 1421)"
      ]
     },
     "execution_count": 9,
     "metadata": {},
     "output_type": "execute_result"
    }
   ],
   "execution_count": 9
  },
  {
   "metadata": {
    "ExecuteTime": {
     "end_time": "2025-01-15T13:26:24.559244Z",
     "start_time": "2025-01-15T13:26:24.364010Z"
    }
   },
   "cell_type": "code",
   "source": [
    "train_df.to_csv('train.csv',index=False)\n",
    "valid_df.to_csv('val.csv',index=False)\n",
    "test_df.to_csv('test.csv',index=False)"
   ],
   "id": "f5228f02500ce059",
   "outputs": [],
   "execution_count": 10
  }
 ],
 "metadata": {
  "kernelspec": {
   "display_name": "Python 3",
   "language": "python",
   "name": "python3"
  },
  "language_info": {
   "codemirror_mode": {
    "name": "ipython",
    "version": 2
   },
   "file_extension": ".py",
   "mimetype": "text/x-python",
   "name": "python",
   "nbconvert_exporter": "python",
   "pygments_lexer": "ipython2",
   "version": "2.7.6"
  }
 },
 "nbformat": 4,
 "nbformat_minor": 5
}
