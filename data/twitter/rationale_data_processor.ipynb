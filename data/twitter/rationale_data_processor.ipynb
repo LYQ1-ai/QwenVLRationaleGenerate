{
 "cells": [
  {
   "metadata": {
    "ExecuteTime": {
     "end_time": "2025-02-07T07:27:34.901154Z",
     "start_time": "2025-02-07T07:27:34.895688Z"
    }
   },
   "cell_type": "code",
   "source": [
    "import os\n",
    "\n",
    "import numpy as np\n",
    "import pandas as pd\n",
    "\n",
    "from data_loader import label_str2int_dict\n",
    "\n",
    "rationale_names = {'td','itc'}\n",
    "current_path = os.getcwd()\n",
    "print(current_path)\n",
    "os.chdir('/home/lyq/DataSet/FakeNews/twitter')\n",
    "print(os.getcwd())\n",
    "\n"
   ],
   "id": "c5ecb7a743d22bd9",
   "outputs": [
    {
     "name": "stdout",
     "output_type": "stream",
     "text": [
      "/home/lyq/DataSet/FakeNews/twitter\n",
      "/home/lyq/DataSet/FakeNews/twitter\n"
     ]
    }
   ],
   "execution_count": 4
  },
  {
   "metadata": {
    "ExecuteTime": {
     "end_time": "2025-02-07T07:27:34.998617Z",
     "start_time": "2025-02-07T07:27:34.948488Z"
    }
   },
   "cell_type": "code",
   "source": [
    "df = pd.read_csv('twitter.csv',encoding='utf-8')\n",
    "df.rename(columns={'post_id':'source_id','post_text':'content'},inplace=True)\n",
    "# content,label,image_id,source_id,split,td_rationale,td_pred,td_acc,cs_rationale,cs_pred,cs_acc\n",
    "df['label'] = df['label'].apply(lambda x: label_str2int_dict[x])\n",
    "df['split'] = np.nan\n",
    "df = df[['source_id','content','label','split','image_id']]\n",
    "df.columns"
   ],
   "id": "3f8f751cfa7a603d",
   "outputs": [
    {
     "data": {
      "text/plain": [
       "Index(['source_id', 'content', 'label', 'split', 'image_id'], dtype='object')"
      ]
     },
     "execution_count": 5,
     "metadata": {},
     "output_type": "execute_result"
    }
   ],
   "execution_count": 5
  },
  {
   "metadata": {
    "ExecuteTime": {
     "end_time": "2025-02-07T07:27:35.324581Z",
     "start_time": "2025-02-07T07:27:35.012902Z"
    }
   },
   "cell_type": "code",
   "source": [
    "for rationale_name in rationale_names:\n",
    "    rationale_df = pd.read_csv(f'{rationale_name}.csv')\n",
    "    rationale_df = rationale_df.dropna(subset=['authenticity','reason'])\n",
    "    df = df.merge(rationale_df,on='source_id',how='left')\n",
    "    df = df.rename(columns={\n",
    "        'authenticity':f'{rationale_name}_pred',\n",
    "        'reason': f'{rationale_name}_rationale',\n",
    "    })\n",
    "    df = df.dropna(subset=[f'{rationale_name}_pred',f'{rationale_name}_rationale'])\n",
    "    df[f'{rationale_name}_pred'] = df[f'{rationale_name}_pred'].apply(lambda x: label_str2int_dict[x])\n",
    "    df[f'{rationale_name}_acc'] = df.apply(lambda x : int(x[f'{rationale_name}_pred']==x['label']) ,axis=1)\n",
    "    print(df.columns)\n",
    "  \n",
    "df\n",
    "    "
   ],
   "id": "d219c5ba2378b7d4",
   "outputs": [
    {
     "name": "stdout",
     "output_type": "stream",
     "text": [
      "Index(['source_id', 'content', 'label', 'split', 'image_id', 'td_pred',\n",
      "       'td_rationale', 'td_acc'],\n",
      "      dtype='object')\n",
      "Index(['source_id', 'content', 'label', 'split', 'image_id', 'td_pred',\n",
      "       'td_rationale', 'td_acc', 'itc_pred', 'itc_rationale', 'itc_acc'],\n",
      "      dtype='object')\n"
     ]
    },
    {
     "data": {
      "text/plain": [
       "                source_id                                            content  \\\n",
       "0      325145334739267584  PIC: Comparison of #Boston suspect Sunil Tripa...   \n",
       "1      325152091423248385  I'm not completely convinced that it's this Su...   \n",
       "2      324315545572896768  4chan and the bombing. just throwing it out th...   \n",
       "3      324581777614180352  4chan thinks they found pictures of the bomber...   \n",
       "4      324665423956176896  Ola ke ase, investigando las bombas de Boston ...   \n",
       "...                   ...                                                ...   \n",
       "14190  700662094107119616  14 children! 14 different fathers! All of them...   \n",
       "14191  700638809155710977  Meet The Woman Who Has Given Birth To 14 Child...   \n",
       "14192  700618091886047232  RT @Viasat1Ghana: Woman, 36, gives birth to 14...   \n",
       "14193  700569502874992640  Woman Breaks World Record With 14 Children fro...   \n",
       "14194  700569797545881600  RT @Abiola_j360ent: Woman Breaks World Record ...   \n",
       "\n",
       "       label  split             image_id  td_pred  \\\n",
       "0          1    NaN       boston_fake_23        1   \n",
       "1          1    NaN       boston_fake_34        1   \n",
       "2          1    NaN       boston_fake_15        1   \n",
       "3          1    NaN       boston_fake_08        1   \n",
       "4          1    NaN       boston_fake_35        1   \n",
       "...      ...    ...                  ...      ...   \n",
       "14190      1    NaN  woman_14_children_1        1   \n",
       "14191      1    NaN  woman_14_children_1        1   \n",
       "14192      1    NaN  woman_14_children_1        1   \n",
       "14193      1    NaN  woman_14_children_2        1   \n",
       "14194      1    NaN  woman_14_children_2        1   \n",
       "\n",
       "                                            td_rationale  td_acc  itc_pred  \\\n",
       "0       1. The message suggests a comparison between ...       1         0   \n",
       "1       1. The message is a tweet expressing doubt ab...       1         0   \n",
       "2       1. The message is extremely brief and lacks c...       1         0   \n",
       "3       1. Source: The source of the message is 4chan...       1         0   \n",
       "4       1. Language: The message is written in a mix ...       1         0   \n",
       "...                                                  ...     ...       ...   \n",
       "14190   1. The claim that a woman has 14 children wit...       1         0   \n",
       "14191   1. Sensationalism: The headline is highly sen...       1         0   \n",
       "14192   1. **Source**: The source of the tweet is Via...       1         0   \n",
       "14193   1. **Source**: The source of the message is n...       1         0   \n",
       "14194   1. **Source**: The tweet is retweeted from an...       1         1   \n",
       "\n",
       "                                           itc_rationale  itc_acc  \n",
       "0       The image contains a missing person poster fo...        0  \n",
       "1       The image shows two individuals, one with a h...        0  \n",
       "2       The image shows before and after scenes of a ...        0  \n",
       "3       The image shows a crowded scene with individu...        0  \n",
       "4       The image shows a crowd with individuals high...        0  \n",
       "...                                                  ...      ...  \n",
       "14190   The image shows a couple with a newborn baby,...        0  \n",
       "14191   The image shows a woman holding a newborn bab...        0  \n",
       "14192   The image shows a woman in hospital attire ho...        0  \n",
       "14193   The image shows a diverse group of children, ...        0  \n",
       "14194   The image shows a group of children giving th...        1  \n",
       "\n",
       "[14195 rows x 11 columns]"
      ],
      "text/html": [
       "<div>\n",
       "<style scoped>\n",
       "    .dataframe tbody tr th:only-of-type {\n",
       "        vertical-align: middle;\n",
       "    }\n",
       "\n",
       "    .dataframe tbody tr th {\n",
       "        vertical-align: top;\n",
       "    }\n",
       "\n",
       "    .dataframe thead th {\n",
       "        text-align: right;\n",
       "    }\n",
       "</style>\n",
       "<table border=\"1\" class=\"dataframe\">\n",
       "  <thead>\n",
       "    <tr style=\"text-align: right;\">\n",
       "      <th></th>\n",
       "      <th>source_id</th>\n",
       "      <th>content</th>\n",
       "      <th>label</th>\n",
       "      <th>split</th>\n",
       "      <th>image_id</th>\n",
       "      <th>td_pred</th>\n",
       "      <th>td_rationale</th>\n",
       "      <th>td_acc</th>\n",
       "      <th>itc_pred</th>\n",
       "      <th>itc_rationale</th>\n",
       "      <th>itc_acc</th>\n",
       "    </tr>\n",
       "  </thead>\n",
       "  <tbody>\n",
       "    <tr>\n",
       "      <th>0</th>\n",
       "      <td>325145334739267584</td>\n",
       "      <td>PIC: Comparison of #Boston suspect Sunil Tripa...</td>\n",
       "      <td>1</td>\n",
       "      <td>NaN</td>\n",
       "      <td>boston_fake_23</td>\n",
       "      <td>1</td>\n",
       "      <td>1. The message suggests a comparison between ...</td>\n",
       "      <td>1</td>\n",
       "      <td>0</td>\n",
       "      <td>The image contains a missing person poster fo...</td>\n",
       "      <td>0</td>\n",
       "    </tr>\n",
       "    <tr>\n",
       "      <th>1</th>\n",
       "      <td>325152091423248385</td>\n",
       "      <td>I'm not completely convinced that it's this Su...</td>\n",
       "      <td>1</td>\n",
       "      <td>NaN</td>\n",
       "      <td>boston_fake_34</td>\n",
       "      <td>1</td>\n",
       "      <td>1. The message is a tweet expressing doubt ab...</td>\n",
       "      <td>1</td>\n",
       "      <td>0</td>\n",
       "      <td>The image shows two individuals, one with a h...</td>\n",
       "      <td>0</td>\n",
       "    </tr>\n",
       "    <tr>\n",
       "      <th>2</th>\n",
       "      <td>324315545572896768</td>\n",
       "      <td>4chan and the bombing. just throwing it out th...</td>\n",
       "      <td>1</td>\n",
       "      <td>NaN</td>\n",
       "      <td>boston_fake_15</td>\n",
       "      <td>1</td>\n",
       "      <td>1. The message is extremely brief and lacks c...</td>\n",
       "      <td>1</td>\n",
       "      <td>0</td>\n",
       "      <td>The image shows before and after scenes of a ...</td>\n",
       "      <td>0</td>\n",
       "    </tr>\n",
       "    <tr>\n",
       "      <th>3</th>\n",
       "      <td>324581777614180352</td>\n",
       "      <td>4chan thinks they found pictures of the bomber...</td>\n",
       "      <td>1</td>\n",
       "      <td>NaN</td>\n",
       "      <td>boston_fake_08</td>\n",
       "      <td>1</td>\n",
       "      <td>1. Source: The source of the message is 4chan...</td>\n",
       "      <td>1</td>\n",
       "      <td>0</td>\n",
       "      <td>The image shows a crowded scene with individu...</td>\n",
       "      <td>0</td>\n",
       "    </tr>\n",
       "    <tr>\n",
       "      <th>4</th>\n",
       "      <td>324665423956176896</td>\n",
       "      <td>Ola ke ase, investigando las bombas de Boston ...</td>\n",
       "      <td>1</td>\n",
       "      <td>NaN</td>\n",
       "      <td>boston_fake_35</td>\n",
       "      <td>1</td>\n",
       "      <td>1. Language: The message is written in a mix ...</td>\n",
       "      <td>1</td>\n",
       "      <td>0</td>\n",
       "      <td>The image shows a crowd with individuals high...</td>\n",
       "      <td>0</td>\n",
       "    </tr>\n",
       "    <tr>\n",
       "      <th>...</th>\n",
       "      <td>...</td>\n",
       "      <td>...</td>\n",
       "      <td>...</td>\n",
       "      <td>...</td>\n",
       "      <td>...</td>\n",
       "      <td>...</td>\n",
       "      <td>...</td>\n",
       "      <td>...</td>\n",
       "      <td>...</td>\n",
       "      <td>...</td>\n",
       "      <td>...</td>\n",
       "    </tr>\n",
       "    <tr>\n",
       "      <th>14190</th>\n",
       "      <td>700662094107119616</td>\n",
       "      <td>14 children! 14 different fathers! All of them...</td>\n",
       "      <td>1</td>\n",
       "      <td>NaN</td>\n",
       "      <td>woman_14_children_1</td>\n",
       "      <td>1</td>\n",
       "      <td>1. The claim that a woman has 14 children wit...</td>\n",
       "      <td>1</td>\n",
       "      <td>0</td>\n",
       "      <td>The image shows a couple with a newborn baby,...</td>\n",
       "      <td>0</td>\n",
       "    </tr>\n",
       "    <tr>\n",
       "      <th>14191</th>\n",
       "      <td>700638809155710977</td>\n",
       "      <td>Meet The Woman Who Has Given Birth To 14 Child...</td>\n",
       "      <td>1</td>\n",
       "      <td>NaN</td>\n",
       "      <td>woman_14_children_1</td>\n",
       "      <td>1</td>\n",
       "      <td>1. Sensationalism: The headline is highly sen...</td>\n",
       "      <td>1</td>\n",
       "      <td>0</td>\n",
       "      <td>The image shows a woman holding a newborn bab...</td>\n",
       "      <td>0</td>\n",
       "    </tr>\n",
       "    <tr>\n",
       "      <th>14192</th>\n",
       "      <td>700618091886047232</td>\n",
       "      <td>RT @Viasat1Ghana: Woman, 36, gives birth to 14...</td>\n",
       "      <td>1</td>\n",
       "      <td>NaN</td>\n",
       "      <td>woman_14_children_1</td>\n",
       "      <td>1</td>\n",
       "      <td>1. **Source**: The source of the tweet is Via...</td>\n",
       "      <td>1</td>\n",
       "      <td>0</td>\n",
       "      <td>The image shows a woman in hospital attire ho...</td>\n",
       "      <td>0</td>\n",
       "    </tr>\n",
       "    <tr>\n",
       "      <th>14193</th>\n",
       "      <td>700569502874992640</td>\n",
       "      <td>Woman Breaks World Record With 14 Children fro...</td>\n",
       "      <td>1</td>\n",
       "      <td>NaN</td>\n",
       "      <td>woman_14_children_2</td>\n",
       "      <td>1</td>\n",
       "      <td>1. **Source**: The source of the message is n...</td>\n",
       "      <td>1</td>\n",
       "      <td>0</td>\n",
       "      <td>The image shows a diverse group of children, ...</td>\n",
       "      <td>0</td>\n",
       "    </tr>\n",
       "    <tr>\n",
       "      <th>14194</th>\n",
       "      <td>700569797545881600</td>\n",
       "      <td>RT @Abiola_j360ent: Woman Breaks World Record ...</td>\n",
       "      <td>1</td>\n",
       "      <td>NaN</td>\n",
       "      <td>woman_14_children_2</td>\n",
       "      <td>1</td>\n",
       "      <td>1. **Source**: The tweet is retweeted from an...</td>\n",
       "      <td>1</td>\n",
       "      <td>1</td>\n",
       "      <td>The image shows a group of children giving th...</td>\n",
       "      <td>1</td>\n",
       "    </tr>\n",
       "  </tbody>\n",
       "</table>\n",
       "<p>14195 rows × 11 columns</p>\n",
       "</div>"
      ]
     },
     "execution_count": 6,
     "metadata": {},
     "output_type": "execute_result"
    }
   ],
   "execution_count": 6
  },
  {
   "metadata": {
    "ExecuteTime": {
     "end_time": "2025-02-07T07:27:35.628735Z",
     "start_time": "2025-02-07T07:27:35.337129Z"
    }
   },
   "cell_type": "code",
   "source": [
    "print(f\"before filtering : {df.shape[0]}  real data :{(df['label']==1).sum()} fake data: {(df['label']==0).sum()}\")\n",
    "\n",
    "def valid_row(row):\n",
    "    condition = [(row['label'] in [0,1]),(row['content'] is not None and len(row['content'])>0)]\n",
    "    for rationale_name in rationale_names:\n",
    "        condition.extend(\n",
    "            [(row[f'{rationale_name}_pred'] in [0,1,2]),\n",
    "             (row[f'{rationale_name}_acc'] in [0,1]),\n",
    "             (row[f'{rationale_name}_rationale'] is not None and len(row[f'{rationale_name}_rationale']) > 0)]\n",
    "        )\n",
    "    return all(condition)\n",
    "\n",
    "df = df[df.apply(valid_row,axis=1)]\n",
    "print(f\"after filtering : {df.shape[0]}  real data :{(df['label']==1).sum()} fake data: {(df['label']==0).sum()}\")"
   ],
   "id": "b010666f394d5f7e",
   "outputs": [
    {
     "name": "stdout",
     "output_type": "stream",
     "text": [
      "before filtering : 14195  real data :7763 fake data: 6432\n",
      "after filtering : 14195  real data :7763 fake data: 6432\n"
     ]
    }
   ],
   "execution_count": 7
  },
  {
   "metadata": {
    "ExecuteTime": {
     "end_time": "2025-02-07T07:27:36.197850Z",
     "start_time": "2025-02-07T07:27:35.633675Z"
    }
   },
   "cell_type": "code",
   "source": [
    "from Util import cal_rationale_metrics\n",
    "from sklearn.metrics import f1_score, precision_score, recall_score, confusion_matrix, accuracy_score\n",
    "\n",
    "for r_name in rationale_names:\n",
    "    pred = df[r_name+ \"_pred\"].tolist()\n",
    "    label = df['label'].tolist()\n",
    "    print(cal_rationale_metrics(pred,label))\n",
    "    "
   ],
   "id": "6bbe69420ea996dd",
   "outputs": [
    {
     "name": "stdout",
     "output_type": "stream",
     "text": [
      "{'acc': 0.6865797816132441, 'recall': 0.6794081128878344, 'recall_real': 0.6029228855721394, 'recall_fake': 0.7558933402035296, 'precision': 0.6842472037243117, 'precision_real': 0.671747791442924, 'precision_fake': 0.6967466160056993, 'f1_macro': 0.6802965557120234, 'f1_real': 0.6354772634166326, 'f1_fake': 0.7251158480074142}\n",
      "{'acc': 0.5533638605142656, 'recall': 0.5907064073391897, 'recall_real': 0.9889614427860697, 'recall_fake': 0.19245137189230968, 'precision': 0.7291373548956666, 'precision_real': 0.5036421219319082, 'precision_fake': 0.954632587859425, 'f1_macro': 0.49386350633744935, 'f1_real': 0.6674011121603189, 'f1_fake': 0.32032590051457976}\n"
     ]
    }
   ],
   "execution_count": 8
  },
  {
   "metadata": {
    "ExecuteTime": {
     "end_time": "2025-02-07T07:27:36.233003Z",
     "start_time": "2025-02-07T07:27:36.204336Z"
    }
   },
   "cell_type": "code",
   "source": [
    "from sklearn.model_selection import train_test_split\n",
    "\n",
    "\n",
    "def split_data(df, train_ratio=0.8, valid_ratio=0.1, random_state=None, stratify_col=None):\n",
    "    \"\"\"\n",
    "    将 pandas DataFrame 划分为训练集、验证集和测试集。\n",
    "\n",
    "    参数:\n",
    "        df (pd.DataFrame): 包含所有数据的 pandas DataFrame。\n",
    "        train_ratio (float): 训练集所占比例，默认为 0.8。\n",
    "        valid_ratio (float): 验证集所占比例，默认为 0.1。\n",
    "        random_state (int, RandomState instance or None): 控制随机抽样的种子，默认为 None。\n",
    "        stratify_col (str or None): 如果不为 None，则数据将按照指定列进行分层抽样，默认为 None。\n",
    "\n",
    "    返回:\n",
    "        tuple: 包含训练集、验证集和测试集的元组。\n",
    "               每个集合都是原始 DataFrame 的一部分，包含所有原始列。\n",
    "    \"\"\"\n",
    "    # 计算测试集的比例\n",
    "    test_ratio = 1 - train_ratio - valid_ratio\n",
    "    if test_ratio <= 0:\n",
    "        raise ValueError(\"The sum of train_ratio and valid_ratio must be less than 1.\")\n",
    "    \n",
    "    # 分层抽样的依据列（如果指定了）\n",
    "    stratify = df[stratify_col] if stratify_col else None\n",
    "    \n",
    "    # 第一步：先从全部数据中划分出测试集\n",
    "    remaining_df, test_df = train_test_split(\n",
    "        df, \n",
    "        test_size=test_ratio , \n",
    "        random_state=random_state, \n",
    "        shuffle=True,\n",
    "        stratify=stratify\n",
    "    )\n",
    "    \n",
    "    # 更新分层抽样的依据列（如果指定了）\n",
    "    stratify_remaining = remaining_df[stratify_col] if stratify_col else None\n",
    "    \n",
    "    # 第二步：从剩余的数据中划分出训练集和验证集\n",
    "    train_df, valid_df = train_test_split(\n",
    "        remaining_df,\n",
    "        test_size=valid_ratio / (train_ratio + valid_ratio),\n",
    "        random_state=random_state,\n",
    "        shuffle=True,\n",
    "        stratify=stratify_remaining\n",
    "    )\n",
    "\n",
    "    return train_df, valid_df, test_df\n",
    "\n",
    "\n",
    "train_df,valid_df,test_df = split_data(df,train_ratio=0.8,valid_ratio=0.1,random_state=666,stratify_col='label')\n",
    "\n",
    "\n",
    "train_df.shape[0],valid_df.shape[0],test_df.shape[0]"
   ],
   "id": "206c383a79937443",
   "outputs": [
    {
     "data": {
      "text/plain": [
       "(11355, 1420, 1420)"
      ]
     },
     "execution_count": 9,
     "metadata": {},
     "output_type": "execute_result"
    }
   ],
   "execution_count": 9
  },
  {
   "metadata": {
    "ExecuteTime": {
     "end_time": "2025-02-07T07:27:36.783348Z",
     "start_time": "2025-02-07T07:27:36.248426Z"
    }
   },
   "cell_type": "code",
   "source": [
    "\n",
    "df.to_csv('twitter_llm_rationales.csv',index=False)\n",
    "train_df.to_csv('train.csv',index=False)\n",
    "valid_df.to_csv('val.csv',index=False)\n",
    "test_df.to_csv('test.csv',index=False)"
   ],
   "id": "cae981c3368fdf83",
   "outputs": [],
   "execution_count": 10
  }
 ],
 "metadata": {
  "kernelspec": {
   "display_name": "Python 3",
   "language": "python",
   "name": "python3"
  },
  "language_info": {
   "codemirror_mode": {
    "name": "ipython",
    "version": 2
   },
   "file_extension": ".py",
   "mimetype": "text/x-python",
   "name": "python",
   "nbconvert_exporter": "python",
   "pygments_lexer": "ipython2",
   "version": "2.7.6"
  }
 },
 "nbformat": 4,
 "nbformat_minor": 5
}
