{
 "cells": [
  {
   "metadata": {
    "ExecuteTime": {
     "end_time": "2025-01-11T09:40:09.988071Z",
     "start_time": "2025-01-11T09:40:07.759101Z"
    }
   },
   "cell_type": "code",
   "source": [
    "import os\n",
    "import pandas as pd\n",
    "from data_loader import label_str2int_dict\n",
    "\n",
    "rationale_names = ['td','cs']\n",
    "\n",
    "print(os.getcwd())\n",
    "os.chdir('/home/lyq/DataSet/FakeNews/gossipcop')\n",
    "print(os.getcwd())"
   ],
   "id": "b84bd312f7386edb",
   "outputs": [
    {
     "name": "stdout",
     "output_type": "stream",
     "text": [
      "/home/lyq/PycharmProjects/QwenVLRationaleGenerate/data/gossipcop\n",
      "/home/lyq/DataSet/FakeNews/gossipcop\n"
     ]
    }
   ],
   "execution_count": 1
  },
  {
   "metadata": {
    "collapsed": true,
    "ExecuteTime": {
     "end_time": "2025-01-11T09:40:11.296555Z",
     "start_time": "2025-01-11T09:40:10.968937Z"
    }
   },
   "cell_type": "code",
   "source": [
    "df = pd.read_csv('gossipcop.csv')\n",
    "\n",
    "df = df.rename(columns={\n",
    "    'id':\"source_id\",\n",
    "    'text':'content',\n",
    "})\n",
    "\n",
    "df['label'] = df['label'].apply(lambda x : label_str2int_dict[x])\n",
    "\n",
    "\n",
    "df.head(10)"
   ],
   "id": "initial_id",
   "outputs": [
    {
     "data": {
      "text/plain": [
       "              source_id                                            content  \\\n",
       "0  gossipcop-2493749932  Congratulations might be in order for Miley Cy...   \n",
       "1   gossipcop-941805037  Thousands are taking the streets to protest Pr...   \n",
       "2  gossipcop-2547891536  We'd venture to say that Cindy Crawford's daug...   \n",
       "3  gossipcop-5189580095  During the summer of 1995, John F. Kennedy Jr....   \n",
       "4  gossipcop-9588339534  Many stars saw great success in 2016, but the ...   \n",
       "5  gossipcop-8753274298  Caitlyn Jenner is trying to keep her romantic ...   \n",
       "6  gossipcop-9878194459  So while the internet is busy obsessing over J...   \n",
       "7  gossipcop-9521617242  Next stop on the 2018 award season train? The ...   \n",
       "8  gossipcop-2210288941  Angelina Jolie, 43, “really hasn’t come to ter...   \n",
       "9  gossipcop-3783917182  We should not be content to pass health care l...   \n",
       "\n",
       "   label  publish_date  \n",
       "0      1  1.529680e+09  \n",
       "1      1  1.492292e+09  \n",
       "2      1  1.458333e+09  \n",
       "3      1  1.498769e+09  \n",
       "4      1  1.481818e+09  \n",
       "5      1  1.533664e+09  \n",
       "6      1  1.531127e+09  \n",
       "7      1  1.515726e+09  \n",
       "8      1  1.534090e+09  \n",
       "9      1  1.506010e+09  "
      ],
      "text/html": [
       "<div>\n",
       "<style scoped>\n",
       "    .dataframe tbody tr th:only-of-type {\n",
       "        vertical-align: middle;\n",
       "    }\n",
       "\n",
       "    .dataframe tbody tr th {\n",
       "        vertical-align: top;\n",
       "    }\n",
       "\n",
       "    .dataframe thead th {\n",
       "        text-align: right;\n",
       "    }\n",
       "</style>\n",
       "<table border=\"1\" class=\"dataframe\">\n",
       "  <thead>\n",
       "    <tr style=\"text-align: right;\">\n",
       "      <th></th>\n",
       "      <th>source_id</th>\n",
       "      <th>content</th>\n",
       "      <th>label</th>\n",
       "      <th>publish_date</th>\n",
       "    </tr>\n",
       "  </thead>\n",
       "  <tbody>\n",
       "    <tr>\n",
       "      <th>0</th>\n",
       "      <td>gossipcop-2493749932</td>\n",
       "      <td>Congratulations might be in order for Miley Cy...</td>\n",
       "      <td>1</td>\n",
       "      <td>1.529680e+09</td>\n",
       "    </tr>\n",
       "    <tr>\n",
       "      <th>1</th>\n",
       "      <td>gossipcop-941805037</td>\n",
       "      <td>Thousands are taking the streets to protest Pr...</td>\n",
       "      <td>1</td>\n",
       "      <td>1.492292e+09</td>\n",
       "    </tr>\n",
       "    <tr>\n",
       "      <th>2</th>\n",
       "      <td>gossipcop-2547891536</td>\n",
       "      <td>We'd venture to say that Cindy Crawford's daug...</td>\n",
       "      <td>1</td>\n",
       "      <td>1.458333e+09</td>\n",
       "    </tr>\n",
       "    <tr>\n",
       "      <th>3</th>\n",
       "      <td>gossipcop-5189580095</td>\n",
       "      <td>During the summer of 1995, John F. Kennedy Jr....</td>\n",
       "      <td>1</td>\n",
       "      <td>1.498769e+09</td>\n",
       "    </tr>\n",
       "    <tr>\n",
       "      <th>4</th>\n",
       "      <td>gossipcop-9588339534</td>\n",
       "      <td>Many stars saw great success in 2016, but the ...</td>\n",
       "      <td>1</td>\n",
       "      <td>1.481818e+09</td>\n",
       "    </tr>\n",
       "    <tr>\n",
       "      <th>5</th>\n",
       "      <td>gossipcop-8753274298</td>\n",
       "      <td>Caitlyn Jenner is trying to keep her romantic ...</td>\n",
       "      <td>1</td>\n",
       "      <td>1.533664e+09</td>\n",
       "    </tr>\n",
       "    <tr>\n",
       "      <th>6</th>\n",
       "      <td>gossipcop-9878194459</td>\n",
       "      <td>So while the internet is busy obsessing over J...</td>\n",
       "      <td>1</td>\n",
       "      <td>1.531127e+09</td>\n",
       "    </tr>\n",
       "    <tr>\n",
       "      <th>7</th>\n",
       "      <td>gossipcop-9521617242</td>\n",
       "      <td>Next stop on the 2018 award season train? The ...</td>\n",
       "      <td>1</td>\n",
       "      <td>1.515726e+09</td>\n",
       "    </tr>\n",
       "    <tr>\n",
       "      <th>8</th>\n",
       "      <td>gossipcop-2210288941</td>\n",
       "      <td>Angelina Jolie, 43, “really hasn’t come to ter...</td>\n",
       "      <td>1</td>\n",
       "      <td>1.534090e+09</td>\n",
       "    </tr>\n",
       "    <tr>\n",
       "      <th>9</th>\n",
       "      <td>gossipcop-3783917182</td>\n",
       "      <td>We should not be content to pass health care l...</td>\n",
       "      <td>1</td>\n",
       "      <td>1.506010e+09</td>\n",
       "    </tr>\n",
       "  </tbody>\n",
       "</table>\n",
       "</div>"
      ]
     },
     "execution_count": 2,
     "metadata": {},
     "output_type": "execute_result"
    }
   ],
   "execution_count": 2
  },
  {
   "metadata": {
    "ExecuteTime": {
     "end_time": "2025-01-11T09:40:13.661352Z",
     "start_time": "2025-01-11T09:40:13.210914Z"
    }
   },
   "cell_type": "code",
   "source": [
    "\n",
    "\n",
    "for rationale_name in rationale_names:\n",
    "    rationale_df = pd.read_csv(f'{rationale_name}.csv')\n",
    "    rationale_df = rationale_df.dropna(subset=['authenticity','reason'])\n",
    "    if rationale_df.shape[0] != df.shape[0]:\n",
    "        raise Exception(f'{rationale_name} len : {rationale_df.shape[0]} != {df.shape[0]}')\n",
    "    df = df.merge(rationale_df,on='source_id',how='left')\n",
    "    df = df.rename(columns={\n",
    "        'authenticity':f'{rationale_name}_pred',\n",
    "        'reason': f'{rationale_name}_rationale',\n",
    "    })\n",
    "    df[f'{rationale_name}_pred'] = df[f'{rationale_name}_pred'].apply(lambda x: label_str2int_dict[x])\n",
    "    print(df.columns)\n",
    "    df[f'{rationale_name}_acc'] = df.apply(lambda x : int(x[f'{rationale_name}_pred']==x['label']) ,axis=1)\n",
    "\n",
    "\n",
    "df\n"
   ],
   "id": "bbc2c91867231c69",
   "outputs": [
    {
     "name": "stdout",
     "output_type": "stream",
     "text": [
      "Index(['source_id', 'content', 'label', 'publish_date', 'td_pred',\n",
      "       'td_rationale'],\n",
      "      dtype='object')\n",
      "Index(['source_id', 'content', 'label', 'publish_date', 'td_pred',\n",
      "       'td_rationale', 'td_acc', 'cs_pred', 'cs_rationale'],\n",
      "      dtype='object')\n"
     ]
    },
    {
     "data": {
      "text/plain": [
       "                  source_id  \\\n",
       "0      gossipcop-2493749932   \n",
       "1       gossipcop-941805037   \n",
       "2      gossipcop-2547891536   \n",
       "3      gossipcop-5189580095   \n",
       "4      gossipcop-9588339534   \n",
       "...                     ...   \n",
       "12326      gossipcop-907293   \n",
       "12327      gossipcop-891749   \n",
       "12328      gossipcop-941486   \n",
       "12329      gossipcop-953143   \n",
       "12330      gossipcop-877062   \n",
       "\n",
       "                                                 content  label  publish_date  \\\n",
       "0      Congratulations might be in order for Miley Cy...      1  1.529680e+09   \n",
       "1      Thousands are taking the streets to protest Pr...      1  1.492292e+09   \n",
       "2      We'd venture to say that Cindy Crawford's daug...      1  1.458333e+09   \n",
       "3      During the summer of 1995, John F. Kennedy Jr....      1  1.498769e+09   \n",
       "4      Many stars saw great success in 2016, but the ...      1  1.481818e+09   \n",
       "...                                                  ...    ...           ...   \n",
       "12326  Gigi & Zayn Gave Us the Best Idea For a Valent...      0  1.485441e+09   \n",
       "12327  2017 Hollywood Film Awards ceremony took place...      0  1.509974e+09   \n",
       "12328  Jada Pinkett Smith recalled that heartbreaking...      0  1.528042e+09   \n",
       "12329  Another one of Luann de Lesseps' Real Housewiv...      0           NaN   \n",
       "12330  After last week's shock announcement that Kyli...      0  1.518258e+09   \n",
       "\n",
       "       td_pred                                       td_rationale  td_acc  \\\n",
       "0            1   1. **Source**: The source of the information ...       1   \n",
       "1            0   \\n1. **Specific Details**: The message includ...       0   \n",
       "2            0   1. **Source and Context**: The message appear...       0   \n",
       "3            0   1. **Source**: The information is sourced fro...       0   \n",
       "4            0   \\n1. **Specific Details**: The text provides ...       0   \n",
       "...        ...                                                ...     ...   \n",
       "12326        1   - The message is written in a highly informal...       0   \n",
       "12327        0   - The message provides specific details about...       1   \n",
       "12328        0   - The message is from a credible source, \"Red...       1   \n",
       "12329        0   - The message discusses a specific and detail...       1   \n",
       "12330        0   - The message discusses Kylie Jenner's pregna...       1   \n",
       "\n",
       "       cs_pred                                       cs_rationale  cs_acc  \n",
       "0            1   \\n  - Plausibility: While it is plausible tha...       1  \n",
       "1            0   Plausibility: The message discusses a real ev...       0  \n",
       "2            0   \\n  - Plausibility: The story is about Kaia G...       0  \n",
       "3            0   \\n  - **Plausibility:** The story involves we...       0  \n",
       "4            0   \\n- Plausibility: The events described in the...       0  \n",
       "...        ...                                                ...     ...  \n",
       "12326        1   Plausibility: The article is filled with info...       0  \n",
       "12327        0   Plausibility: The message describes a typical...       1  \n",
       "12328        0   Plausibility: The story is plausible as it di...       1  \n",
       "12329        0   Plausibility: The message is about a Real Hou...       1  \n",
       "12330        0   Plausibility: The story is plausible as it ex...       1  \n",
       "\n",
       "[12331 rows x 10 columns]"
      ],
      "text/html": [
       "<div>\n",
       "<style scoped>\n",
       "    .dataframe tbody tr th:only-of-type {\n",
       "        vertical-align: middle;\n",
       "    }\n",
       "\n",
       "    .dataframe tbody tr th {\n",
       "        vertical-align: top;\n",
       "    }\n",
       "\n",
       "    .dataframe thead th {\n",
       "        text-align: right;\n",
       "    }\n",
       "</style>\n",
       "<table border=\"1\" class=\"dataframe\">\n",
       "  <thead>\n",
       "    <tr style=\"text-align: right;\">\n",
       "      <th></th>\n",
       "      <th>source_id</th>\n",
       "      <th>content</th>\n",
       "      <th>label</th>\n",
       "      <th>publish_date</th>\n",
       "      <th>td_pred</th>\n",
       "      <th>td_rationale</th>\n",
       "      <th>td_acc</th>\n",
       "      <th>cs_pred</th>\n",
       "      <th>cs_rationale</th>\n",
       "      <th>cs_acc</th>\n",
       "    </tr>\n",
       "  </thead>\n",
       "  <tbody>\n",
       "    <tr>\n",
       "      <th>0</th>\n",
       "      <td>gossipcop-2493749932</td>\n",
       "      <td>Congratulations might be in order for Miley Cy...</td>\n",
       "      <td>1</td>\n",
       "      <td>1.529680e+09</td>\n",
       "      <td>1</td>\n",
       "      <td>1. **Source**: The source of the information ...</td>\n",
       "      <td>1</td>\n",
       "      <td>1</td>\n",
       "      <td>\\n  - Plausibility: While it is plausible tha...</td>\n",
       "      <td>1</td>\n",
       "    </tr>\n",
       "    <tr>\n",
       "      <th>1</th>\n",
       "      <td>gossipcop-941805037</td>\n",
       "      <td>Thousands are taking the streets to protest Pr...</td>\n",
       "      <td>1</td>\n",
       "      <td>1.492292e+09</td>\n",
       "      <td>0</td>\n",
       "      <td>\\n1. **Specific Details**: The message includ...</td>\n",
       "      <td>0</td>\n",
       "      <td>0</td>\n",
       "      <td>Plausibility: The message discusses a real ev...</td>\n",
       "      <td>0</td>\n",
       "    </tr>\n",
       "    <tr>\n",
       "      <th>2</th>\n",
       "      <td>gossipcop-2547891536</td>\n",
       "      <td>We'd venture to say that Cindy Crawford's daug...</td>\n",
       "      <td>1</td>\n",
       "      <td>1.458333e+09</td>\n",
       "      <td>0</td>\n",
       "      <td>1. **Source and Context**: The message appear...</td>\n",
       "      <td>0</td>\n",
       "      <td>0</td>\n",
       "      <td>\\n  - Plausibility: The story is about Kaia G...</td>\n",
       "      <td>0</td>\n",
       "    </tr>\n",
       "    <tr>\n",
       "      <th>3</th>\n",
       "      <td>gossipcop-5189580095</td>\n",
       "      <td>During the summer of 1995, John F. Kennedy Jr....</td>\n",
       "      <td>1</td>\n",
       "      <td>1.498769e+09</td>\n",
       "      <td>0</td>\n",
       "      <td>1. **Source**: The information is sourced fro...</td>\n",
       "      <td>0</td>\n",
       "      <td>0</td>\n",
       "      <td>\\n  - **Plausibility:** The story involves we...</td>\n",
       "      <td>0</td>\n",
       "    </tr>\n",
       "    <tr>\n",
       "      <th>4</th>\n",
       "      <td>gossipcop-9588339534</td>\n",
       "      <td>Many stars saw great success in 2016, but the ...</td>\n",
       "      <td>1</td>\n",
       "      <td>1.481818e+09</td>\n",
       "      <td>0</td>\n",
       "      <td>\\n1. **Specific Details**: The text provides ...</td>\n",
       "      <td>0</td>\n",
       "      <td>0</td>\n",
       "      <td>\\n- Plausibility: The events described in the...</td>\n",
       "      <td>0</td>\n",
       "    </tr>\n",
       "    <tr>\n",
       "      <th>...</th>\n",
       "      <td>...</td>\n",
       "      <td>...</td>\n",
       "      <td>...</td>\n",
       "      <td>...</td>\n",
       "      <td>...</td>\n",
       "      <td>...</td>\n",
       "      <td>...</td>\n",
       "      <td>...</td>\n",
       "      <td>...</td>\n",
       "      <td>...</td>\n",
       "    </tr>\n",
       "    <tr>\n",
       "      <th>12326</th>\n",
       "      <td>gossipcop-907293</td>\n",
       "      <td>Gigi &amp; Zayn Gave Us the Best Idea For a Valent...</td>\n",
       "      <td>0</td>\n",
       "      <td>1.485441e+09</td>\n",
       "      <td>1</td>\n",
       "      <td>- The message is written in a highly informal...</td>\n",
       "      <td>0</td>\n",
       "      <td>1</td>\n",
       "      <td>Plausibility: The article is filled with info...</td>\n",
       "      <td>0</td>\n",
       "    </tr>\n",
       "    <tr>\n",
       "      <th>12327</th>\n",
       "      <td>gossipcop-891749</td>\n",
       "      <td>2017 Hollywood Film Awards ceremony took place...</td>\n",
       "      <td>0</td>\n",
       "      <td>1.509974e+09</td>\n",
       "      <td>0</td>\n",
       "      <td>- The message provides specific details about...</td>\n",
       "      <td>1</td>\n",
       "      <td>0</td>\n",
       "      <td>Plausibility: The message describes a typical...</td>\n",
       "      <td>1</td>\n",
       "    </tr>\n",
       "    <tr>\n",
       "      <th>12328</th>\n",
       "      <td>gossipcop-941486</td>\n",
       "      <td>Jada Pinkett Smith recalled that heartbreaking...</td>\n",
       "      <td>0</td>\n",
       "      <td>1.528042e+09</td>\n",
       "      <td>0</td>\n",
       "      <td>- The message is from a credible source, \"Red...</td>\n",
       "      <td>1</td>\n",
       "      <td>0</td>\n",
       "      <td>Plausibility: The story is plausible as it di...</td>\n",
       "      <td>1</td>\n",
       "    </tr>\n",
       "    <tr>\n",
       "      <th>12329</th>\n",
       "      <td>gossipcop-953143</td>\n",
       "      <td>Another one of Luann de Lesseps' Real Housewiv...</td>\n",
       "      <td>0</td>\n",
       "      <td>NaN</td>\n",
       "      <td>0</td>\n",
       "      <td>- The message discusses a specific and detail...</td>\n",
       "      <td>1</td>\n",
       "      <td>0</td>\n",
       "      <td>Plausibility: The message is about a Real Hou...</td>\n",
       "      <td>1</td>\n",
       "    </tr>\n",
       "    <tr>\n",
       "      <th>12330</th>\n",
       "      <td>gossipcop-877062</td>\n",
       "      <td>After last week's shock announcement that Kyli...</td>\n",
       "      <td>0</td>\n",
       "      <td>1.518258e+09</td>\n",
       "      <td>0</td>\n",
       "      <td>- The message discusses Kylie Jenner's pregna...</td>\n",
       "      <td>1</td>\n",
       "      <td>0</td>\n",
       "      <td>Plausibility: The story is plausible as it ex...</td>\n",
       "      <td>1</td>\n",
       "    </tr>\n",
       "  </tbody>\n",
       "</table>\n",
       "<p>12331 rows × 10 columns</p>\n",
       "</div>"
      ]
     },
     "execution_count": 3,
     "metadata": {},
     "output_type": "execute_result"
    }
   ],
   "execution_count": 3
  },
  {
   "metadata": {
    "ExecuteTime": {
     "end_time": "2025-01-11T09:40:30.781149Z",
     "start_time": "2025-01-11T09:40:30.773427Z"
    }
   },
   "cell_type": "code",
   "source": [
    "print(f\"sum: {df.shape[0]}\")\n",
    "value_count = df['label'].value_counts()\n",
    "print(f\"real data: {value_count.get(1,0)}\")\n",
    "print(f\"fake data: {value_count.get(0,0)}\")"
   ],
   "id": "5a03146a31de0d59",
   "outputs": [
    {
     "name": "stdout",
     "output_type": "stream",
     "text": [
      "sum: 12331\n",
      "real data: 2716\n",
      "fake data: 9615\n"
     ]
    }
   ],
   "execution_count": 4
  },
  {
   "metadata": {
    "ExecuteTime": {
     "end_time": "2025-01-11T09:40:38.108676Z",
     "start_time": "2025-01-11T09:40:38.084039Z"
    }
   },
   "cell_type": "code",
   "source": [
    "def filter_data(df):\n",
    "    for r_name in rationale_names:\n",
    "        df = df[ (df[f'{r_name}_pred'] != -1) & (df[f'{r_name}_rationale'] is not None) ]\n",
    "    return df\n",
    "        \n",
    "print(f\"before filtering : {df.shape[0]}  real data :{(df['label']==1).sum()} fake data: {(df['label']==0).sum()}\")\n",
    "df = filter_data(df)\n",
    "print(f\"after filtering : {df.shape[0]}  real data :{(df['label']==1).sum()} fake data: {(df['label']==0).sum()}\")\n"
   ],
   "id": "40431c75e8f3cd3b",
   "outputs": [
    {
     "name": "stdout",
     "output_type": "stream",
     "text": [
      "before filtering : 12331  real data :2716 fake data: 9615\n",
      "after filtering : 12331  real data :2716 fake data: 9615\n"
     ]
    }
   ],
   "execution_count": 5
  },
  {
   "metadata": {
    "ExecuteTime": {
     "end_time": "2025-01-11T09:41:34.742874Z",
     "start_time": "2025-01-11T09:41:34.533986Z"
    }
   },
   "cell_type": "code",
   "source": [
    "from Util import cal_rationale_metrics\n",
    "from sklearn.metrics import f1_score, precision_score, recall_score, confusion_matrix, accuracy_score\n",
    "\n",
    "for r_name in rationale_names:\n",
    "    pred = df[r_name+ \"_pred\"].tolist()\n",
    "    label = df['label'].tolist()\n",
    "    print(cal_rationale_metrics(pred,label))\n",
    "    "
   ],
   "id": "e0f743ffe5126a01",
   "outputs": [
    {
     "name": "stdout",
     "output_type": "stream",
     "text": [
      "{'acc': 0.8342389100640661, 'recall': 0.6573948451310659, 'recall_real': 0.9734789391575663, 'recall_fake': 0.34131075110456555, 'precision': 0.8123455854121868, 'precision_real': 0.8397631437286919, 'precision_fake': 0.7849280270956817, 'f1_macro': 0.6887206236867336, 'f1_real': 0.9016906700062617, 'f1_fake': 0.47575057736720555}\n",
      "{'acc': 0.8359419349606683, 'recall': 0.6609966401601572, 'recall_real': 0.9736869474778991, 'recall_fake': 0.3483063328424153, 'precision': 0.8160977632032494, 'precision_real': 0.841225626740947, 'precision_fake': 0.7909698996655519, 'f1_macro': 0.6931312634219706, 'f1_real': 0.9026224450443502, 'f1_fake': 0.483640081799591}\n"
     ]
    }
   ],
   "execution_count": 7
  },
  {
   "metadata": {
    "ExecuteTime": {
     "end_time": "2025-01-11T09:42:11.170005Z",
     "start_time": "2025-01-11T09:42:11.102610Z"
    }
   },
   "cell_type": "code",
   "source": [
    "def split_data0(df,train_ratio=0.8,valid_ratio=0.1):\n",
    "    train_nums = int(df.shape[0]*train_ratio)\n",
    "    valid_nums = int(df.shape[0]*valid_ratio)\n",
    "    return df.iloc[:train_nums],df.iloc[train_nums:train_nums+valid_nums],df.iloc[train_nums+valid_nums:]\n",
    "\n",
    "def split_data(df,train_ratio=0.8,valid_ratio=0.1):\n",
    "    real_data = df[df['label'] == 1]\n",
    "    fake_data = df[df['label'] == 0]\n",
    "    print(f\"real_data count : {real_data.shape[0]}\")\n",
    "    print(f\"fake_data count : {fake_data.shape[0]}\")\n",
    "    train_real,valid_real,test_real = split_data0(real_data,train_ratio,valid_ratio)\n",
    "    train_fake,valid_fake,test_fake = split_data0(fake_data,train_ratio,valid_ratio)\n",
    "    train_df,valid_df,test_df = pd.concat([train_real,train_fake]),pd.concat([valid_real,valid_fake]),pd.concat([test_real,test_fake])\n",
    "    train_df['split'] = 'train'\n",
    "    valid_df['split'] = 'val'\n",
    "    test_df['split'] = 'test'\n",
    "    return train_df,valid_df,test_df\n",
    "\n",
    "\n",
    "train_df,valid_df,test_df = split_data(df,train_ratio=0.8,valid_ratio=0.1)\n",
    "\n",
    "\n",
    "train_df.shape[0],valid_df.shape[0],test_df.shape[0]"
   ],
   "id": "83ed77bcebc82db8",
   "outputs": [
    {
     "name": "stdout",
     "output_type": "stream",
     "text": [
      "real_data count : 2716\n",
      "fake_data count : 9615\n"
     ]
    },
    {
     "data": {
      "text/plain": [
       "(9864, 1232, 1235)"
      ]
     },
     "execution_count": 8,
     "metadata": {},
     "output_type": "execute_result"
    }
   ],
   "execution_count": 8
  },
  {
   "metadata": {
    "ExecuteTime": {
     "end_time": "2025-01-11T09:42:16.196475Z",
     "start_time": "2025-01-11T09:42:14.971832Z"
    }
   },
   "cell_type": "code",
   "source": [
    "train_df.to_csv('train.csv',index=False)\n",
    "valid_df.to_csv('val.csv',index=False)\n",
    "test_df.to_csv('test.csv',index=False)"
   ],
   "id": "f5228f02500ce059",
   "outputs": [],
   "execution_count": 9
  }
 ],
 "metadata": {
  "kernelspec": {
   "display_name": "Python 3",
   "language": "python",
   "name": "python3"
  },
  "language_info": {
   "codemirror_mode": {
    "name": "ipython",
    "version": 2
   },
   "file_extension": ".py",
   "mimetype": "text/x-python",
   "name": "python",
   "nbconvert_exporter": "python",
   "pygments_lexer": "ipython2",
   "version": "2.7.6"
  }
 },
 "nbformat": 4,
 "nbformat_minor": 5
}
