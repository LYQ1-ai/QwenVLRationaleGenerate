{
 "cells": [
  {
   "cell_type": "code",
   "id": "initial_id",
   "metadata": {
    "collapsed": true,
    "ExecuteTime": {
     "end_time": "2025-01-25T09:25:59.143918Z",
     "start_time": "2025-01-25T09:25:58.671766Z"
    }
   },
   "source": [
    "import os\n",
    "\n",
    "import numpy as np\n",
    "import pandas as pd\n",
    "\n",
    "print(os.getcwd())\n",
    "root_path = '/home/lyq/DataSet/FakeNews/gossipcop'\n",
    "os.chdir(root_path)\n",
    "print(os.getcwd())\n"
   ],
   "outputs": [
    {
     "name": "stdout",
     "output_type": "stream",
     "text": [
      "/home/lyq/PycharmProjects/QwenVLRationaleGenerate/data/gossipcop\n",
      "/home/lyq/DataSet/FakeNews/gossipcop\n"
     ]
    }
   ],
   "execution_count": 1
  },
  {
   "metadata": {
    "ExecuteTime": {
     "end_time": "2025-01-25T09:26:01.201452Z",
     "start_time": "2025-01-25T09:26:00.279022Z"
    }
   },
   "cell_type": "code",
   "source": [
    "rationale_names = ['td','cs']\n",
    "df = pd.read_csv('gossipcop.csv')\n",
    "df.rename(columns={'id':'source_id'}, inplace=True)\n",
    "rationale_dfs = [ pd.read_csv(f'{rationale_name}.csv')  for rationale_name in rationale_names]\n",
    "\n"
   ],
   "id": "786d4456a8cec8ae",
   "outputs": [],
   "execution_count": 2
  },
  {
   "metadata": {
    "ExecuteTime": {
     "end_time": "2025-01-25T09:26:02.872522Z",
     "start_time": "2025-01-25T09:26:02.583983Z"
    }
   },
   "cell_type": "code",
   "source": [
    "for i, r_df in enumerate(rationale_dfs):\n",
    "    rationale_dfs[i] = r_df.merge(df[['source_id', 'label']], how='left', on='source_id')\n",
    "    rationale_dfs[i]['acc'] = rationale_dfs[i].apply(lambda row: int(row['label'] == row['authenticity']), axis=1)\n",
    "    print((rationale_dfs[i]['acc'] == 1).sum() / len(rationale_dfs[i]))\n"
   ],
   "id": "45f2c6c7cb38121a",
   "outputs": [
    {
     "name": "stdout",
     "output_type": "stream",
     "text": [
      "0.8341712617580279\n",
      "0.8359419349606683\n"
     ]
    }
   ],
   "execution_count": 3
  },
  {
   "metadata": {
    "ExecuteTime": {
     "end_time": "2025-01-25T09:26:06.162763Z",
     "start_time": "2025-01-25T09:26:05.497573Z"
    }
   },
   "cell_type": "code",
   "source": [
    "from sklearn.model_selection import train_test_split\n",
    "\n",
    "\n",
    "def split_rationale_df(df, test_ratio=0.2, random_state=None, stratify_col=None):\n",
    "\n",
    "    # 分层抽样的依据列（如果指定了）\n",
    "    stratify = df[stratify_col] if stratify_col else None\n",
    "    train_df,test_df = train_test_split(df,test_size=test_ratio,random_state=random_state,stratify=stratify)\n",
    "    train_id_set,test_id_set = set(train_df['source_id'].tolist()),set(test_df['source_id'].tolist())\n",
    "    df['split'] = df['source_id'].apply(lambda x: 'train' if x in train_id_set else 'test')\n",
    "    return df\n",
    "\n",
    "\n",
    "for r_df in rationale_dfs:\n",
    "    print(r_df.columns)\n",
    "    r_df = split_rationale_df(r_df,random_state=666,stratify_col='acc')\n",
    "    print(f'sum: {r_df.shape[0]} train : {(r_df[\"split\"]==\"train\").sum()} test : {(r_df[\"split\"]==\"test\").sum()} ')\n",
    "\n",
    "\n",
    "\n"
   ],
   "id": "a9b11e6c3db5769f",
   "outputs": [
    {
     "name": "stdout",
     "output_type": "stream",
     "text": [
      "Index(['source_id', 'authenticity', 'reason', 'label', 'acc'], dtype='object')\n",
      "sum: 12332 train : 9865 test : 2467 \n",
      "Index(['source_id', 'authenticity', 'reason', 'label', 'acc'], dtype='object')\n",
      "sum: 12331 train : 9864 test : 2467 \n"
     ]
    }
   ],
   "execution_count": 4
  },
  {
   "metadata": {
    "ExecuteTime": {
     "end_time": "2025-01-25T09:27:59.311201Z",
     "start_time": "2025-01-25T09:27:58.820148Z"
    }
   },
   "cell_type": "code",
   "source": [
    "for i in range(len(rationale_names)):\n",
    "    rationale_dfs[i].to_csv(f'{rationale_names[i]}.csv',index=False)"
   ],
   "id": "cf86a7d20c54d5c1",
   "outputs": [],
   "execution_count": 5
  }
 ],
 "metadata": {
  "kernelspec": {
   "display_name": "Python 3",
   "language": "python",
   "name": "python3"
  },
  "language_info": {
   "codemirror_mode": {
    "name": "ipython",
    "version": 2
   },
   "file_extension": ".py",
   "mimetype": "text/x-python",
   "name": "python",
   "nbconvert_exporter": "python",
   "pygments_lexer": "ipython2",
   "version": "2.7.6"
  }
 },
 "nbformat": 4,
 "nbformat_minor": 5
}
