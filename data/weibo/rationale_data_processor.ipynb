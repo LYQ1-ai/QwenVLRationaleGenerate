{
 "cells": [
  {
   "cell_type": "code",
   "id": "initial_id",
   "metadata": {
    "collapsed": true,
    "ExecuteTime": {
     "end_time": "2025-02-07T05:03:08.685302Z",
     "start_time": "2025-02-07T05:03:06.206339Z"
    }
   },
   "source": [
    "import os\n",
    "\n",
    "import pandas as pd\n",
    "from data_loader import label_str2int_dict\n",
    "\n",
    "rationale_names = ['td','cs','itc']\n",
    "print(os.getcwd())\n",
    "os.chdir('/home/lyq/DataSet/FakeNews/weibo_dataset')\n",
    "print(os.getcwd())\n"
   ],
   "outputs": [
    {
     "name": "stdout",
     "output_type": "stream",
     "text": [
      "/home/lyq/PycharmProjects/QwenVLRationaleGenerate/data/weibo\n",
      "/home/lyq/DataSet/FakeNews/weibo_dataset\n"
     ]
    }
   ],
   "execution_count": 1
  },
  {
   "metadata": {
    "ExecuteTime": {
     "end_time": "2025-02-07T05:03:12.617762Z",
     "start_time": "2025-02-07T05:03:12.310425Z"
    }
   },
   "cell_type": "code",
   "source": [
    "import ast\n",
    "\n",
    "weibo_df = pd.read_csv('weibo.csv')\n",
    "weibo_df = weibo_df.rename(columns={\n",
    "    'id':'source_id',\n",
    "    'text':'content',\n",
    "})\n",
    "\n",
    "def get_image_id(image_file_name_list):\n",
    "    return ast.literal_eval(image_file_name_list)[0].split('/')[-1].split('.')[0]\n",
    "\n",
    "\n",
    "weibo_df['content'] = weibo_df.apply(lambda x : f'{x[\"content\"]} --发布来源：{x[\"release_source\"]}', axis=1)\n",
    "weibo_df['label'] = weibo_df['label'].apply(lambda x : label_str2int_dict[x])\n",
    "weibo_df['image_id'] = weibo_df['available_image_paths'].apply(lambda x : get_image_id(x))\n",
    "\n",
    "weibo_df = weibo_df.drop(columns=['available_image_paths','release_source'])\n",
    "\n",
    "weibo_df"
   ],
   "id": "ee32e6a7639fb6e",
   "outputs": [
    {
     "data": {
      "text/plain": [
       "             source_id                                            content  \\\n",
       "0     3511947309647762  震惊，转发求证：【想都不敢想 ，在美国一桶金龙鱼食用油只要8元人民币】 一桶食用油相当于中国...   \n",
       "1     3576100079039606  【法院无底线】湖南长沙一位小朋友上学路上捡到3万元，原地不动等失主，结果被人冒领。不知情的孩...   \n",
       "2     3899073935617462  转发:我校需要小孩的衣服,新旧不限!西藏阿里地区是世界海拔最高的地区请问周围有没有四到十岁孩...   \n",
       "3     3584521306131914  立刻检查一下你家里的牙膏，如果是黑色条马上扔掉！ 大家买膏请留心,买牙膏时注意牙膏管反面 底...   \n",
       "4     3553661986467439  快快转发，急急急！中央电视台《焦点访谈》已经播出，可口可乐承认旗下(果粒橙)含有美国禁用农药...   \n",
       "...                ...                                                ...   \n",
       "7956  3896157270699471  【空城记：刘小东与鄂尔多斯】#正午故事#鄂尔多斯是个比较敏感的城市。其实政府也比想象的聪明，...   \n",
       "7957  3895644894378737  【日本人是怎么拍黑帮电影的？】Tim Gallo出生于俄国，17岁后迁往日本生活。通过用镜头...   \n",
       "7958  3893257346088858  #跟着面叔看世界#第一站，日本东京筑地市场。你现在到哪儿了？不会还堵在路上吧？一起来晒晒旅途...   \n",
       "7959  3892828281041275  【现场图·广西柳城县连续发生多起爆炸】据@南宁电视台 ：网友称，现场听到几声巨响，车站，市场...   \n",
       "7960  3891020422521038  【你看得见的，和看不见的印度】最近，新加坡的一家科技公司Limitless在Facebook...   \n",
       "\n",
       "      split  label                          image_id  \n",
       "0     train      1            a71ac854gw1dytin2zmk9j  \n",
       "1     train      1  3ba161e7jw1e4i6j4ep61j211n0r4juz  \n",
       "2     train      1  006ajvCngw1ex4jjl2pwlj30c8096wf7  \n",
       "3     train      1  6112c76ajw1e591p39mpej20hw094mxh  \n",
       "4     train      1            a5404163jw1e2iljwbrztj  \n",
       "...     ...    ...                               ...  \n",
       "7956   test      0  005EHRy1jw1ewv1azxwh1j30rs0lljzm  \n",
       "7957   test      0  005EHRy1jw1ewtlhknf30j30jg0czq4y  \n",
       "7958   test      0  005EHRy1jw1ewlzj6oenaj30qo0zkdm5  \n",
       "7959   test      0  61e04755jw1ewkm8o7fyyj20c80gb0u2  \n",
       "7960   test      0  005EHRy1jw1ewetx3odduj30hs0bu75x  \n",
       "\n",
       "[7961 rows x 5 columns]"
      ],
      "text/html": [
       "<div>\n",
       "<style scoped>\n",
       "    .dataframe tbody tr th:only-of-type {\n",
       "        vertical-align: middle;\n",
       "    }\n",
       "\n",
       "    .dataframe tbody tr th {\n",
       "        vertical-align: top;\n",
       "    }\n",
       "\n",
       "    .dataframe thead th {\n",
       "        text-align: right;\n",
       "    }\n",
       "</style>\n",
       "<table border=\"1\" class=\"dataframe\">\n",
       "  <thead>\n",
       "    <tr style=\"text-align: right;\">\n",
       "      <th></th>\n",
       "      <th>source_id</th>\n",
       "      <th>content</th>\n",
       "      <th>split</th>\n",
       "      <th>label</th>\n",
       "      <th>image_id</th>\n",
       "    </tr>\n",
       "  </thead>\n",
       "  <tbody>\n",
       "    <tr>\n",
       "      <th>0</th>\n",
       "      <td>3511947309647762</td>\n",
       "      <td>震惊，转发求证：【想都不敢想 ，在美国一桶金龙鱼食用油只要8元人民币】 一桶食用油相当于中国...</td>\n",
       "      <td>train</td>\n",
       "      <td>1</td>\n",
       "      <td>a71ac854gw1dytin2zmk9j</td>\n",
       "    </tr>\n",
       "    <tr>\n",
       "      <th>1</th>\n",
       "      <td>3576100079039606</td>\n",
       "      <td>【法院无底线】湖南长沙一位小朋友上学路上捡到3万元，原地不动等失主，结果被人冒领。不知情的孩...</td>\n",
       "      <td>train</td>\n",
       "      <td>1</td>\n",
       "      <td>3ba161e7jw1e4i6j4ep61j211n0r4juz</td>\n",
       "    </tr>\n",
       "    <tr>\n",
       "      <th>2</th>\n",
       "      <td>3899073935617462</td>\n",
       "      <td>转发:我校需要小孩的衣服,新旧不限!西藏阿里地区是世界海拔最高的地区请问周围有没有四到十岁孩...</td>\n",
       "      <td>train</td>\n",
       "      <td>1</td>\n",
       "      <td>006ajvCngw1ex4jjl2pwlj30c8096wf7</td>\n",
       "    </tr>\n",
       "    <tr>\n",
       "      <th>3</th>\n",
       "      <td>3584521306131914</td>\n",
       "      <td>立刻检查一下你家里的牙膏，如果是黑色条马上扔掉！ 大家买膏请留心,买牙膏时注意牙膏管反面 底...</td>\n",
       "      <td>train</td>\n",
       "      <td>1</td>\n",
       "      <td>6112c76ajw1e591p39mpej20hw094mxh</td>\n",
       "    </tr>\n",
       "    <tr>\n",
       "      <th>4</th>\n",
       "      <td>3553661986467439</td>\n",
       "      <td>快快转发，急急急！中央电视台《焦点访谈》已经播出，可口可乐承认旗下(果粒橙)含有美国禁用农药...</td>\n",
       "      <td>train</td>\n",
       "      <td>1</td>\n",
       "      <td>a5404163jw1e2iljwbrztj</td>\n",
       "    </tr>\n",
       "    <tr>\n",
       "      <th>...</th>\n",
       "      <td>...</td>\n",
       "      <td>...</td>\n",
       "      <td>...</td>\n",
       "      <td>...</td>\n",
       "      <td>...</td>\n",
       "    </tr>\n",
       "    <tr>\n",
       "      <th>7956</th>\n",
       "      <td>3896157270699471</td>\n",
       "      <td>【空城记：刘小东与鄂尔多斯】#正午故事#鄂尔多斯是个比较敏感的城市。其实政府也比想象的聪明，...</td>\n",
       "      <td>test</td>\n",
       "      <td>0</td>\n",
       "      <td>005EHRy1jw1ewv1azxwh1j30rs0lljzm</td>\n",
       "    </tr>\n",
       "    <tr>\n",
       "      <th>7957</th>\n",
       "      <td>3895644894378737</td>\n",
       "      <td>【日本人是怎么拍黑帮电影的？】Tim Gallo出生于俄国，17岁后迁往日本生活。通过用镜头...</td>\n",
       "      <td>test</td>\n",
       "      <td>0</td>\n",
       "      <td>005EHRy1jw1ewtlhknf30j30jg0czq4y</td>\n",
       "    </tr>\n",
       "    <tr>\n",
       "      <th>7958</th>\n",
       "      <td>3893257346088858</td>\n",
       "      <td>#跟着面叔看世界#第一站，日本东京筑地市场。你现在到哪儿了？不会还堵在路上吧？一起来晒晒旅途...</td>\n",
       "      <td>test</td>\n",
       "      <td>0</td>\n",
       "      <td>005EHRy1jw1ewlzj6oenaj30qo0zkdm5</td>\n",
       "    </tr>\n",
       "    <tr>\n",
       "      <th>7959</th>\n",
       "      <td>3892828281041275</td>\n",
       "      <td>【现场图·广西柳城县连续发生多起爆炸】据@南宁电视台 ：网友称，现场听到几声巨响，车站，市场...</td>\n",
       "      <td>test</td>\n",
       "      <td>0</td>\n",
       "      <td>61e04755jw1ewkm8o7fyyj20c80gb0u2</td>\n",
       "    </tr>\n",
       "    <tr>\n",
       "      <th>7960</th>\n",
       "      <td>3891020422521038</td>\n",
       "      <td>【你看得见的，和看不见的印度】最近，新加坡的一家科技公司Limitless在Facebook...</td>\n",
       "      <td>test</td>\n",
       "      <td>0</td>\n",
       "      <td>005EHRy1jw1ewetx3odduj30hs0bu75x</td>\n",
       "    </tr>\n",
       "  </tbody>\n",
       "</table>\n",
       "<p>7961 rows × 5 columns</p>\n",
       "</div>"
      ]
     },
     "execution_count": 2,
     "metadata": {},
     "output_type": "execute_result"
    }
   ],
   "execution_count": 2
  },
  {
   "metadata": {
    "ExecuteTime": {
     "end_time": "2025-02-07T05:03:17.504520Z",
     "start_time": "2025-02-07T05:03:16.409322Z"
    }
   },
   "cell_type": "code",
   "source": [
    "data_set_len = weibo_df.shape[0]\n",
    "for rationale_name in rationale_names:\n",
    "    r_df = pd.read_csv(f'{rationale_name}.csv')\n",
    "    r_df = r_df.dropna(subset=['authenticity','reason'])\n",
    "    r_df['authenticity'] = r_df['authenticity'].apply(lambda x : label_str2int_dict[x])\n",
    "    if r_df.shape[0] != data_set_len:\n",
    "        raise Exception(f'{rationale_name} len : {r_df.shape[0]} != {data_set_len}')\n",
    "    weibo_df = weibo_df.merge(r_df,how='left',on='source_id')\n",
    "    weibo_df = weibo_df.rename(columns={\n",
    "        'authenticity':f'{rationale_name}_pred',\n",
    "        'reason': f'{rationale_name}_rationale'\n",
    "    })\n",
    "    weibo_df[f'{rationale_name}_acc'] = weibo_df.apply(lambda x : int(x[f'{rationale_name}_pred'] == x['label']), axis=1)\n",
    "\n",
    "\n",
    "weibo_df"
   ],
   "id": "4ac78d6cd4a47c5a",
   "outputs": [
    {
     "ename": "Exception",
     "evalue": "itc len : 7960 != 7961",
     "output_type": "error",
     "traceback": [
      "\u001B[0;31m---------------------------------------------------------------------------\u001B[0m",
      "\u001B[0;31mException\u001B[0m                                 Traceback (most recent call last)",
      "Cell \u001B[0;32mIn[3], line 7\u001B[0m\n\u001B[1;32m      5\u001B[0m r_df[\u001B[38;5;124m'\u001B[39m\u001B[38;5;124mauthenticity\u001B[39m\u001B[38;5;124m'\u001B[39m] \u001B[38;5;241m=\u001B[39m r_df[\u001B[38;5;124m'\u001B[39m\u001B[38;5;124mauthenticity\u001B[39m\u001B[38;5;124m'\u001B[39m]\u001B[38;5;241m.\u001B[39mapply(\u001B[38;5;28;01mlambda\u001B[39;00m x : label_str2int_dict[x])\n\u001B[1;32m      6\u001B[0m \u001B[38;5;28;01mif\u001B[39;00m r_df\u001B[38;5;241m.\u001B[39mshape[\u001B[38;5;241m0\u001B[39m] \u001B[38;5;241m!=\u001B[39m data_set_len:\n\u001B[0;32m----> 7\u001B[0m     \u001B[38;5;28;01mraise\u001B[39;00m \u001B[38;5;167;01mException\u001B[39;00m(\u001B[38;5;124mf\u001B[39m\u001B[38;5;124m'\u001B[39m\u001B[38;5;132;01m{\u001B[39;00mrationale_name\u001B[38;5;132;01m}\u001B[39;00m\u001B[38;5;124m len : \u001B[39m\u001B[38;5;132;01m{\u001B[39;00mr_df\u001B[38;5;241m.\u001B[39mshape[\u001B[38;5;241m0\u001B[39m]\u001B[38;5;132;01m}\u001B[39;00m\u001B[38;5;124m != \u001B[39m\u001B[38;5;132;01m{\u001B[39;00mdata_set_len\u001B[38;5;132;01m}\u001B[39;00m\u001B[38;5;124m'\u001B[39m)\n\u001B[1;32m      8\u001B[0m weibo_df \u001B[38;5;241m=\u001B[39m weibo_df\u001B[38;5;241m.\u001B[39mmerge(r_df,how\u001B[38;5;241m=\u001B[39m\u001B[38;5;124m'\u001B[39m\u001B[38;5;124mleft\u001B[39m\u001B[38;5;124m'\u001B[39m,on\u001B[38;5;241m=\u001B[39m\u001B[38;5;124m'\u001B[39m\u001B[38;5;124msource_id\u001B[39m\u001B[38;5;124m'\u001B[39m)\n\u001B[1;32m      9\u001B[0m weibo_df \u001B[38;5;241m=\u001B[39m weibo_df\u001B[38;5;241m.\u001B[39mrename(columns\u001B[38;5;241m=\u001B[39m{\n\u001B[1;32m     10\u001B[0m     \u001B[38;5;124m'\u001B[39m\u001B[38;5;124mauthenticity\u001B[39m\u001B[38;5;124m'\u001B[39m:\u001B[38;5;124mf\u001B[39m\u001B[38;5;124m'\u001B[39m\u001B[38;5;132;01m{\u001B[39;00mrationale_name\u001B[38;5;132;01m}\u001B[39;00m\u001B[38;5;124m_pred\u001B[39m\u001B[38;5;124m'\u001B[39m,\n\u001B[1;32m     11\u001B[0m     \u001B[38;5;124m'\u001B[39m\u001B[38;5;124mreason\u001B[39m\u001B[38;5;124m'\u001B[39m: \u001B[38;5;124mf\u001B[39m\u001B[38;5;124m'\u001B[39m\u001B[38;5;132;01m{\u001B[39;00mrationale_name\u001B[38;5;132;01m}\u001B[39;00m\u001B[38;5;124m_rationale\u001B[39m\u001B[38;5;124m'\u001B[39m\n\u001B[1;32m     12\u001B[0m })\n",
      "\u001B[0;31mException\u001B[0m: itc len : 7960 != 7961"
     ]
    }
   ],
   "execution_count": 3
  },
  {
   "metadata": {
    "ExecuteTime": {
     "end_time": "2025-01-09T03:40:29.535844Z",
     "start_time": "2025-01-09T03:40:29.447413Z"
    }
   },
   "cell_type": "code",
   "source": [
    "\n",
    "from Util import cal_rationale_metrics\n",
    "\n",
    "for rationale_name in rationale_names:\n",
    "    print(f'{rationale_name} metrics: \\n '\n",
    "          f'{cal_rationale_metrics(weibo_df[f\"{rationale_name}_pred\"].to_numpy(),weibo_df[\"label\"].to_numpy())}')\n"
   ],
   "id": "61ef1e65b0cb22ec",
   "outputs": [
    {
     "name": "stdout",
     "output_type": "stream",
     "text": [
      "td metrics: \n",
      " {'acc': 0.8233890214797136, 'recall': 0.5427601592001796, 'recall_real': array([0.70538166]), 'recall_fake': array([0.92289882]), 'precision': 0.5616390057574591, 'precision_real': array([0.89294404]), 'precision_fake': array([0.79197298])}\n",
      "cs metrics: \n",
      " {'acc': 0.8171084034669012, 'recall': 0.539962878099261, 'recall_real': array([0.72570016]), 'recall_fake': array([0.89418847]), 'precision': 0.5530751984308145, 'precision_real': array([0.86063172]), 'precision_fake': array([0.79859388])}\n"
     ]
    },
    {
     "name": "stderr",
     "output_type": "stream",
     "text": [
      "/home/lyq/anaconda3/envs/LRG/lib/python3.10/site-packages/sklearn/metrics/_classification.py:1565: UndefinedMetricWarning: Recall is ill-defined and being set to 0.0 in labels with no true samples. Use `zero_division` parameter to control this behavior.\n",
      "  _warn_prf(average, modifier, f\"{metric.capitalize()} is\", len(result))\n",
      "/home/lyq/anaconda3/envs/LRG/lib/python3.10/site-packages/sklearn/metrics/_classification.py:1565: UndefinedMetricWarning: Recall is ill-defined and being set to 0.0 in labels with no true samples. Use `zero_division` parameter to control this behavior.\n",
      "  _warn_prf(average, modifier, f\"{metric.capitalize()} is\", len(result))\n"
     ]
    }
   ],
   "execution_count": 4
  },
  {
   "metadata": {
    "ExecuteTime": {
     "end_time": "2025-01-09T03:41:31.501477Z",
     "start_time": "2025-01-09T03:41:31.289351Z"
    }
   },
   "cell_type": "code",
   "source": "weibo_df.to_csv('weibo_llm_rationale.csv',index=False)",
   "id": "3802f9da0103f635",
   "outputs": [],
   "execution_count": 5
  },
  {
   "metadata": {
    "ExecuteTime": {
     "end_time": "2025-01-09T03:50:13.378587Z",
     "start_time": "2025-01-09T03:50:13.322223Z"
    }
   },
   "cell_type": "code",
   "source": [
    "\n",
    "from sklearn.model_selection import train_test_split\n",
    "\n",
    "\n",
    "def split_train_val(df_train, val_size=0.2, random_state=666, stratify_column=None):\n",
    "    \"\"\"\n",
    "    从训练集中划分出验证集。\n",
    "\n",
    "    参数:\n",
    "        df_train (pd.DataFrame): 输入的训练集 DataFrame。\n",
    "        val_size (float): 验证集所占比例，默认为 0.2。\n",
    "        random_state (int): 随机种子，确保结果可复现，默认为 666。\n",
    "        stratify_column (str or None): 如果需要分层抽样，则提供类别列名；默认为 None。\n",
    "\n",
    "    返回:\n",
    "        tuple: 包含两个 DataFrame 的元组，分别为新的训练集和验证集。\n",
    "    \"\"\"\n",
    "    if stratify_column and stratify_column not in df_train.columns:\n",
    "        raise ValueError(f\"列 '{stratify_column}' 不存在于提供的 DataFrame 中\")\n",
    "\n",
    "    stratify = df_train[stratify_column] if stratify_column else None\n",
    "\n",
    "    df_new_train, df_val = train_test_split(\n",
    "        df_train,\n",
    "        test_size=val_size,\n",
    "        random_state=random_state,\n",
    "        stratify=stratify\n",
    "    )\n",
    "\n",
    "    return df_new_train, df_val\n",
    "\n",
    "def count_dataset(df):\n",
    "    return {\n",
    "        'sum': df.shape[0],\n",
    "        'real':(df['label']==label_str2int_dict['real']).sum(),\n",
    "        'fake':(df['label']==label_str2int_dict['fake']).sum(),\n",
    "    }\n",
    "\n",
    "train_df,test_df = weibo_df[weibo_df['split']=='train'], weibo_df[weibo_df['split']=='test']\n",
    "train_df,val_df = split_train_val(train_df)\n",
    "print(f'train : {count_dataset(train_df)}')\n",
    "print(f'val : {count_dataset(val_df)}')\n",
    "print(f'test : {count_dataset(test_df)}')\n"
   ],
   "id": "38d93177d9b659f2",
   "outputs": [
    {
     "name": "stdout",
     "output_type": "stream",
     "text": [
      "train : {'sum': 4961, 'real': 2254, 'fake': 2707}\n",
      "val : {'sum': 1241, 'real': 553, 'fake': 688}\n",
      "test : {'sum': 1759, 'real': 835, 'fake': 924}\n"
     ]
    }
   ],
   "execution_count": 7
  },
  {
   "metadata": {
    "ExecuteTime": {
     "end_time": "2025-01-09T03:51:12.823749Z",
     "start_time": "2025-01-09T03:51:12.654384Z"
    }
   },
   "cell_type": "code",
   "source": [
    "train_df.to_csv('train.csv',index=False)\n",
    "val_df.to_csv('val.csv',index=False)\n",
    "test_df.to_csv('test.csv',index=False)"
   ],
   "id": "7dbc50c08e4fa13e",
   "outputs": [],
   "execution_count": 8
  }
 ],
 "metadata": {
  "kernelspec": {
   "display_name": "Python 3",
   "language": "python",
   "name": "python3"
  },
  "language_info": {
   "codemirror_mode": {
    "name": "ipython",
    "version": 2
   },
   "file_extension": ".py",
   "mimetype": "text/x-python",
   "name": "python",
   "nbconvert_exporter": "python",
   "pygments_lexer": "ipython2",
   "version": "2.7.6"
  }
 },
 "nbformat": 4,
 "nbformat_minor": 5
}
